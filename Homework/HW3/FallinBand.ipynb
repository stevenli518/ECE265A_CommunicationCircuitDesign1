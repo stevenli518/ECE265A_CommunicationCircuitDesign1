{
 "cells": [
  {
   "cell_type": "code",
   "execution_count": 1,
   "metadata": {},
   "outputs": [],
   "source": [
    "import pandas as pd\n",
    "import numpy as np"
   ]
  },
  {
   "cell_type": "code",
   "execution_count": 6,
   "metadata": {},
   "outputs": [],
   "source": [
    "n = np.linspace(1,9,5)\n",
    "m = 1\n",
    "wLO = [734,746]\n",
    "my_5GFR1 = {\"n75\":[3300,4200], \"n76\":[3300,3800],\"n77\":[4400,5000]}\n",
    "my_WIFI = {\"2.4G\":[2401,2495], \"5G\":[5030,5875]}\n",
    "my_4G_DL = {\"B2\": [1930,1990],\n",
    " \"B4\": [2110,2155],\n",
    " \"B5\": [869,894],\n",
    " \"B12\": [729,746],\n",
    " \"B13\": [746,756],\n",
    " \"B14\": [758,768],\n",
    " \"B17\": [734,746],\n",
    " \"B25\": [1930,1995],\n",
    " \"B26\": [859,894],\n",
    " \"B30\": [2350,2360],\n",
    " \"B66\": [2110,2200],\n",
    " \"B71\": [617,652] \n",
    "         }\n",
    "\n",
    "my_4G_UL = {\"B2\": [1850,1910],\n",
    " \"B4\": [1710,1755],\n",
    " \"B5\": [824,849],\n",
    " \"B12\": [699,716],\n",
    " \"B13\": [777,787],\n",
    " \"B14\": [788,798],\n",
    " \"B17\": [704,716],\n",
    " \"B25\": [1850,1915],\n",
    " \"B26\": [814,849],\n",
    " \"B30\": [2305,2315],\n",
    " \"B66\": [1710,1780],\n",
    " \"B71\": [663,698] \n",
    "         }\n",
    "\n",
    "my_band = {**my_5GFR1, **my_4G_UL,**my_WIFI}\n",
    "\n"
   ]
  },
  {
   "cell_type": "code",
   "execution_count": 8,
   "metadata": {},
   "outputs": [
    {
     "name": "stdout",
     "output_type": "stream",
     "text": [
      "{'n: 3.0': [], 'n: 5.0': ['n75', 'n76'], 'n: 7.0': ['5G'], 'n: 9.0': []}\n"
     ]
    }
   ],
   "source": [
    "# Q3 PartA 1\n",
    "n = np.linspace(3,9,4)\n",
    "my_range_low = 0\n",
    "my_range_high = 0\n",
    "my_match = {}\n",
    "myLO = 0\n",
    "for i in n:\n",
    "    my_range_low = wLO[0]*i\n",
    "    my_range_high = wLO[1]*i\n",
    "    temp_str = \"n: \"+str(i)\n",
    "    my_match.setdefault(temp_str, [])\n",
    "    for key, value in my_band.items():\n",
    "        if my_range_low >= value[0] and value[1] >= my_range_high:\n",
    "            my_match[temp_str].append(key)\n",
    "print(my_match)"
   ]
  },
  {
   "cell_type": "code",
   "execution_count": 9,
   "metadata": {},
   "outputs": [
    {
     "name": "stdout",
     "output_type": "stream",
     "text": [
      "1\n",
      "{'m: 1.0 n: 3.0': [], 'm: 1.0 n: 5.0': ['n75', 'n76'], 'm: 1.0 n: 7.0': ['5G'], 'm: 1.0 n: 9.0': [], 'm: 2.0 n: 3.0': [], 'm: 2.0 n: 5.0': [], 'm: 2.0 n: 7.0': [], 'm: 2.0 n: 9.0': ['n75', 'n76'], 'm: 3.0 n: 3.0': [], 'm: 3.0 n: 5.0': [], 'm: 3.0 n: 7.0': ['B4', 'B66'], 'm: 3.0 n: 9.0': [], 'm: 4.0 n: 3.0': [], 'm: 4.0 n: 5.0': [], 'm: 4.0 n: 7.0': [], 'm: 4.0 n: 9.0': [], 'm: 5.0 n: 3.0': [], 'm: 5.0 n: 5.0': [], 'm: 5.0 n: 7.0': [], 'm: 5.0 n: 9.0': [], 'm: 6.0 n: 3.0': [], 'm: 6.0 n: 5.0': [], 'm: 6.0 n: 7.0': [], 'm: 6.0 n: 9.0': [], 'm: 7.0 n: 3.0': [], 'm: 7.0 n: 5.0': [], 'm: 7.0 n: 7.0': [], 'm: 7.0 n: 9.0': [], 'm: 8.0 n: 3.0': [], 'm: 8.0 n: 5.0': [], 'm: 8.0 n: 7.0': [], 'm: 8.0 n: 9.0': ['B5', 'B26'], 'm: 9.0 n: 3.0': [], 'm: 9.0 n: 5.0': [], 'm: 9.0 n: 7.0': [], 'm: 9.0 n: 9.0': []}\n",
      "{'m: 1.0 n: 5.0': ['n75', 'n76'], 'm: 1.0 n: 7.0': ['5G'], 'm: 2.0 n: 9.0': ['n75', 'n76'], 'm: 3.0 n: 7.0': ['B4', 'B66'], 'm: 8.0 n: 9.0': ['B5', 'B26']}\n"
     ]
    }
   ],
   "source": [
    "# Q3 PartA 2 \n",
    "# m = 1-9\n",
    "n_set = np.linspace(3,9,4)\n",
    "m_set = np.linspace(1,9,9)\n",
    "print(m)\n",
    "my_range_low = 0\n",
    "my_range_high = 0\n",
    "my_match = {}\n",
    "for m in m_set:\n",
    "    for n in n_set:\n",
    "        my_range_low = wLO[0]*n/m\n",
    "        my_range_high = wLO[1]*n/m\n",
    "        temp = np.linspace(my_range_low,my_range_high,10)\n",
    "        temp_str = \"m: \"+str(m) + \" n: \"+str(n)\n",
    "        my_match.setdefault(temp_str, [])\n",
    "        for key, value in my_band.items():\n",
    "            for x in temp:\n",
    "                if x >= value[0] and value[1] >= x:\n",
    "                    my_match[temp_str].append(key)\n",
    "                    break\n",
    "print(my_match)\n",
    "non_empty_dict = {key: value for key, value in my_match.items() if value is not None and value != []}\n",
    "print(non_empty_dict)"
   ]
  },
  {
   "cell_type": "code",
   "execution_count": 16,
   "metadata": {},
   "outputs": [
    {
     "name": "stdout",
     "output_type": "stream",
     "text": [
      "{' n: 2.0': ['B13', 'B14'], ' n: 3.0': [], ' n: 4.0': [], ' n: 5.0': []}\n",
      "{' n: 2.0': ['B13', 'B14']}\n"
     ]
    }
   ],
   "source": [
    "# Q3 PartB 1 \n",
    "# m = 1-9\n",
    "n_set = np.linspace(2,5,4)\n",
    "# m_set = np.linspace(1,9,9)\n",
    "my_range_low = 0\n",
    "my_range_high = 0\n",
    "my_match = {}\n",
    "for n in n_set:\n",
    "    for key, value in my_band.items():\n",
    "            my_range_low = value[0]*n\n",
    "            my_range_high = value[1]*n\n",
    "            temp = np.linspace(my_range_low,my_range_high,10)\n",
    "            #print(my_range_low,my_range_high)\n",
    "            temp_str = \" n: \"+str(n)\n",
    "            my_match.setdefault(temp_str, [])\n",
    "            for x in temp:\n",
    "                if 1570 <= x <= 1580:\n",
    "                    my_match[temp_str].append(key)\n",
    "                    break\n",
    "print(my_match)\n",
    "non_empty_dict = {key: value for key, value in my_match.items() if value is not None and value != []}\n",
    "print(non_empty_dict)"
   ]
  }
 ],
 "metadata": {
  "kernelspec": {
   "display_name": "Python 3",
   "language": "python",
   "name": "python3"
  },
  "language_info": {
   "codemirror_mode": {
    "name": "ipython",
    "version": 3
   },
   "file_extension": ".py",
   "mimetype": "text/x-python",
   "name": "python",
   "nbconvert_exporter": "python",
   "pygments_lexer": "ipython3",
   "version": "3.10.4"
  }
 },
 "nbformat": 4,
 "nbformat_minor": 2
}
